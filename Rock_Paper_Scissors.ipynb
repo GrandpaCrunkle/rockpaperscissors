{
  "nbformat": 4,
  "nbformat_minor": 0,
  "metadata": {
    "colab": {
      "provenance": []
    },
    "kernelspec": {
      "name": "python3",
      "display_name": "Python 3"
    },
    "language_info": {
      "name": "python"
    }
  },
  "cells": [
    {
      "cell_type": "code",
      "execution_count": 164,
      "metadata": {
        "colab": {
          "base_uri": "https://localhost:8080/"
        },
        "id": "zdE8TJ3OCUfP",
        "outputId": "a0c53b2f-ef8b-4e85-e0f0-aac0cbddd985"
      },
      "outputs": [
        {
          "output_type": "stream",
          "name": "stdout",
          "text": [
            "Please select\n",
            "1. Rock\n",
            "2. Paper\n",
            "3. Scissors\n",
            "1\n",
            "You have chose\n",
            "\n",
            "    _______\n",
            "---'   ____)\n",
            "      (_____)\n",
            "      (_____)\n",
            "      (____)\n",
            "---.__(___)\n",
            "\n",
            "Computer has chose\n",
            "\n",
            "     _______\n",
            "---'    ____)____\n",
            "           ______)\n",
            "          _______)\n",
            "         _______)\n",
            "---.__________)\n",
            "\n",
            "Player loses\n"
          ]
        }
      ],
      "source": [
        "import random\n",
        "\n",
        "\n",
        "\n",
        "rock = (\"\"\"\n",
        "    _______\n",
        "---'   ____)\n",
        "      (_____)\n",
        "      (_____)\n",
        "      (____)\n",
        "---.__(___)\n",
        "\"\"\")\n",
        "\n",
        "# Paper\n",
        "paper =(\"\"\"\n",
        "     _______\n",
        "---'    ____)____\n",
        "           ______)\n",
        "          _______)\n",
        "         _______)\n",
        "---.__________)\n",
        "\"\"\")\n",
        "\n",
        "# Scissors\n",
        "scissors = (\"\"\"\n",
        "    _______\n",
        "---'   ____)____\n",
        "          ______)\n",
        "       __________)\n",
        "      (____)\n",
        "---.__(___)\n",
        "\"\"\")\n",
        "\n",
        "\n",
        "def player_choice():\n",
        "    player_input = int(input('Please select\\n1. Rock\\n2. Paper\\n3. Scissors\\n'))\n",
        "    if player_input == 1:\n",
        "      print(f'You have chose\\n{rock}')\n",
        "    elif player_input == 2:\n",
        "      print(f'You have chose\\n{paper}')\n",
        "    else:\n",
        "      print(f'You have chose\\n{scissors}')\n",
        "    return(player_input)\n",
        "\n",
        "def computers_choice():\n",
        "    computers_choice = random.randint(1,3)\n",
        "    if computers_choice == 1:\n",
        "      print(f'Computer has chose\\n{rock}')\n",
        "    elif computers_choice == 2:\n",
        "      print(f'Computer has chose\\n{paper}')\n",
        "    else:\n",
        "      print(f'Computer has chose\\n{scissors}')\n",
        "    return(computers_choice)\n",
        "\n",
        "def decide_winner(player__choice,computers_choice):\n",
        "    if player_choice == computers_choice:\n",
        "      return('Tie game')\n",
        "    elif (\n",
        "       (player_choice == 1 and computers_choice == 3) or\n",
        "       (player_choice == 2 and computers_choice == 1) or\n",
        "       (player_choice == 3 and computers_choice == 2)\n",
        "       ):\n",
        "       return 'Player wins'\n",
        "    else:\n",
        "      return 'Player loses'\n",
        "\n",
        "player_selection = player_choice()\n",
        "computer_selection = computers_choice()\n",
        "\n",
        "result = decide_winner(player_selection,computer_selection)\n",
        "\n",
        "print(result)"
      ]
    }
  ]
}